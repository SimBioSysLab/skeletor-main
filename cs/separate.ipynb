{
 "cells": [
  {
   "cell_type": "code",
   "execution_count": 81,
   "metadata": {
    "collapsed": true
   },
   "outputs": [],
   "source": [
    "import numpy as np\n",
    "import pandas as pd\n",
    "import csv\n",
    "filename1 = \"res_out_v.txt\"\n",
    "\n",
    "filename2 = \"ins_out_v.txt\"\n",
    " \n",
    "with open(filename1) as f1:\n",
    "    res = f1.readlines()\n",
    "with open(filename2) as f2:\n",
    "    ins = f2.readlines()\n",
    "\n",
    "#len_ins, len_res = len(ins),len(res)\n",
    "len_ins, len_res = 20,25\n",
    "#print(len_ins, len_res)\n",
    "\n",
    "def prepros(line):\n",
    "    line = line[:-1].split(', ')\n",
    "    new=[0]*24\n",
    "    flag=0\n",
    "    for k in line:\n",
    "        if k.startswith('t='):\n",
    "            new[0] = k[len('t='):]\n",
    "        elif k.startswith('hid='):\n",
    "            new[1] = k[len('hid='):]\n",
    "        elif k.startswith('uid=') and flag==0:\n",
    "            new[2] = k[len('uid='):]\n",
    "            flag=1\n",
    "        elif k.startswith('pid='):\n",
    "            new[3] = k[len('pid='):]\n",
    "        elif k.startswith('sys='):\n",
    "            new[4] = k[len('sys='):]\n",
    "        elif k.startswith('dev='):\n",
    "            new[5] = k[len('dev='):]  \n",
    "        elif k.startswith('fid='):\n",
    "            new[6] = k[len('fid='):]  \n",
    "        elif k.startswith('gfid='):\n",
    "            new[7] = k[len('gfid='):]\n",
    "        elif k.startswith('comd='):\n",
    "            new[8] = k[len('comd='):]  \n",
    "        elif k.startswith('ofst='):\n",
    "            new[9] = k[len('ofst='):] \n",
    "        elif k.startswith('byts='):\n",
    "            new[10] = k[len('byts='):]\n",
    "        elif k.startswith('fd='):\n",
    "            new[11] = k[len('fd='):]  \n",
    "        elif k.startswith('fpd='):\n",
    "            new[12] = k[len('fpd='):] \n",
    "        elif k.startswith('cFlg='):\n",
    "            new[13] = k[len('cFlg='):]\n",
    "        elif k.startswith('ftyp='):\n",
    "            new[14] = k[len('ftyp='):]  \n",
    "        elif k.startswith('fstp='):\n",
    "            new[15] = k[len('fstp='):]\n",
    "        elif k.startswith('uid='):\n",
    "            new[16] = k[len('uid='):]\n",
    "        elif k.startswith('siz='):\n",
    "            new[17] = k[len('siz='):]  \n",
    "        elif k.startswith('nlnk='):\n",
    "            new[18] = k[len('nlnk='):]  \n",
    "        elif k.startswith('ctm='):\n",
    "            new[19] = k[len('ctm='):]\n",
    "        elif k.startswith('mtm='):\n",
    "            new[20] = k[len('mtm='):]  \n",
    "        elif k.startswith('atm='):\n",
    "            new[21] = k[len('atm='):] \n",
    "        elif k.startswith('mode='):\n",
    "            new[22] = k[len('mode='):]\n",
    "        else: return 0\n",
    "    return new\n",
    "\n",
    "i, j = 0, 0\n",
    "line_i = prepros(ins[i])\n",
    "line_j = prepros(res[j])\n",
    "\n",
    "with open(\"test.csv\",\"w\") as csvfile: \n",
    "    writer = csv.writer(csvfile)\n",
    "    #columns_name\n",
    "    writer.writerow([\"t\", \"hid\",\"uid\",\"pid\",\"sys\",\"dev\",\"fid\",\"gfid\",\"comd\",\"ofst\",\"byts\",\"fd\",\n",
    "                     \"fpd\",\"cFlg\",\"ftyp\",\"fstp\",\"uid\",\"siz\",\"nlnk\",\"ctm\",\"mtm\",\"atm\",\"mode\",\"label\"])\n",
    "    \n",
    "    while (i<len_ins and j< len_res):    \n",
    "        if line_i[0]==line_j[0]:\n",
    "            y = np.random.choice(2,1)[0]            \n",
    "        elif line_i[0] < line_j[0]:\n",
    "            y = 0\n",
    "        else:\n",
    "            y=1\n",
    "        if y==0:\n",
    "            writer.writerow(line_i)\n",
    "            i+=1\n",
    "            while i<len_ins and prepros(ins[i])==0:\n",
    "                i+=1\n",
    "            if i<len_ins:\n",
    "                line_i = prepros(ins[i])\n",
    "\n",
    "        else:\n",
    "            writer.writerow(line_j)\n",
    "            j+=1\n",
    "            while j<len_res and prepros(res[j])==0:\n",
    "                j+=1\n",
    "            if j< len_res:\n",
    "                line_j = prepros(res[j])\n",
    "                line_j[23]=1 \n",
    "    if i<len_ins:\n",
    "        while(i<len_ins):\n",
    "            writer.writerow(line_i)\n",
    "            i+=1\n",
    "            while i<len_ins and  prepros(ins[i])==0:\n",
    "                i+=1\n",
    "            if i<len_ins:\n",
    "                line_i = prepros(ins[i]) \n",
    "    elif j<len_res:\n",
    "        while(j<len_res):\n",
    "            writer.writerow(line_j)\n",
    "            j+=1\n",
    "            while j<len_res and prepros(res[j])==0:\n",
    "                j+=1\n",
    "            if j <len_res:\n",
    "                line_j = prepros(res[j]) \n",
    "                line_j[23]=1 \n",
    "\n",
    "\n",
    "df = pd.read_csv('test.csv')\n",
    "df.to_csv('out.csv', index=False)"
   ]
  },
  {
   "cell_type": "code",
   "execution_count": 2,
   "metadata": {
    "scrolled": true
   },
   "outputs": [
    {
     "name": "stdout",
     "output_type": "stream",
     "text": [
      "14925076 2117466\n"
     ]
    }
   ],
   "source": []
  },
  {
   "cell_type": "code",
   "execution_count": 82,
   "metadata": {
    "scrolled": true
   },
   "outputs": [
    {
     "name": "stdout",
     "output_type": "stream",
     "text": [
      "20 26\n"
     ]
    }
   ],
   "source": [
    "print(i,j)\n"
   ]
  },
  {
   "cell_type": "code",
   "execution_count": 69,
   "metadata": {},
   "outputs": [
    {
     "name": "stdout",
     "output_type": "stream",
     "text": [
      "[0, 0, 0, 0]\n"
     ]
    }
   ],
   "source": [
    "line=['pid=0', 'dev=9', 'sys=5','fid=-9']\n",
    "line2=['pid=0', 'dev=9', 'sys=5','fid=-9']\n",
    "new,new2 = [0]*4,[0]*4\n",
    "print(new)\n",
    "for k in line:\n",
    "    if k.startswith(\"pid=\"):\n",
    "        new[0]=k[4:]\n",
    "    elif k.startswith(\"sys=\"):\n",
    "        new[1]=k[4:]    \n",
    "    elif k.startswith(\"dev=\"):\n",
    "        new[2]=k[4:]\n",
    "    elif k.startswith(\"fid=\"):\n",
    "        new[3]=k[4:]\n",
    "for k in line2:\n",
    "    if k.startswith(\"pid=\"):\n",
    "        new2[0]=k[4:]\n",
    "    elif k.startswith(\"sys=\"):\n",
    "        new2[1]=k[4:]    \n",
    "    elif k.startswith(\"dev=\"):\n",
    "        new2[2]=k[4:]\n",
    "    elif k.startswith(\"fid=\"):\n",
    "        new2[3]=k[4:]        \n",
    "with open(\"test.csv\",\"w\") as csvfile: \n",
    "    writer = csv.writer(csvfile)\n",
    "    writer.writerow(['pid', 'sys', 'dev', 'fid'])\n",
    "    \n",
    "    writer.writerows([new,new2])\n",
    "    #writer.writerows([new2])"
   ]
  },
  {
   "cell_type": "code",
   "execution_count": 73,
   "metadata": {
    "collapsed": true
   },
   "outputs": [],
   "source": [
    "import pandas as pd\n",
    "df = pd.read_csv('test.csv')\n",
    "df.to_csv('out.csv', index=False)"
   ]
  },
  {
   "cell_type": "code",
   "execution_count": 85,
   "metadata": {},
   "outputs": [
    {
     "name": "stdout",
     "output_type": "stream",
     "text": [
      "make file: out_1.csv\n",
      "time is 0 seconds \n"
     ]
    }
   ],
   "source": [
    "import os\n",
    "import time\n",
    "\n",
    "def mkSubFile(lines,head,srcName,sub):\n",
    "    [des_filename, extname] = os.path.splitext(srcName)\n",
    "    filename  = des_filename + '_' + str(sub) + extname\n",
    "    print( 'make file: %s' %filename)\n",
    "    fout = open(filename,'w')\n",
    "    try:\n",
    "        fout.writelines([head])\n",
    "        fout.writelines(lines)\n",
    "        return sub + 1\n",
    "    finally:\n",
    "        fout.close()\n",
    "\n",
    "def splitByLineCount(filename,count):\n",
    "    fin = open(filename,'r')\n",
    "    try:\n",
    "        head = fin.readline()\n",
    "        buf = []\n",
    "        sub = 1\n",
    "        for line in fin:\n",
    "            buf.append(line)\n",
    "            if len(buf) == count:\n",
    "                sub = mkSubFile(buf,head,filename,sub)\n",
    "                buf = []\n",
    "                break\n",
    "        #if len(buf) != 0:\n",
    "            #sub = mkSubFile(buf,head,filename,sub)   \n",
    "    finally:\n",
    "        fin.close()\n",
    "\n",
    "if __name__ == '__main__':\n",
    "    begin = time.time()\n",
    "    splitByLineCount('out.csv',20)\n",
    "    end = time.time()\n",
    "    print('time is %d seconds ' % (end - begin))"
   ]
  },
  {
   "cell_type": "code",
   "execution_count": 89,
   "metadata": {},
   "outputs": [
    {
     "name": "stdout",
     "output_type": "stream",
     "text": [
      "[[  5.          -7.5       ]\n",
      " [ -7.5         11.66666667]]\n",
      "[ 0.99244289  0.00755711]\n",
      "[ 6.30061232  0.54980396]\n"
     ]
    }
   ],
   "source": [
    "import numpy as np\n",
    "from sklearn.decomposition import PCA\n",
    "X = np.array([[-1, -1], [-2, -1], [-3, -2], [1, 1], [2, 1], [3, 2]])\n",
    "y=[0,0,0,1,1,1]\n",
    "pca = PCA(n_components=2)\n",
    "pca.fit(X)\n",
    "print(pca.get_precision())\n",
    "\n",
    "\n",
    "print(pca.explained_variance_ratio_)  \n",
    "\n",
    "print(pca.singular_values_) "
   ]
  },
  {
   "cell_type": "code",
   "execution_count": 87,
   "metadata": {},
   "outputs": [
    {
     "name": "stdout",
     "output_type": "stream",
     "text": [
      "[ 0.99244289  0.00755711]\n",
      "[ 6.30061232  0.54980396]\n"
     ]
    }
   ],
   "source": [
    "pca = PCA(n_components=2, svd_solver='full')\n",
    "pca.fit(X)                 \n",
    "\n",
    "\n",
    "print(pca.explained_variance_ratio_)  \n",
    "\n",
    "print(pca.singular_values_)  "
   ]
  },
  {
   "cell_type": "code",
   "execution_count": 88,
   "metadata": {},
   "outputs": [
    {
     "name": "stdout",
     "output_type": "stream",
     "text": [
      "[ 0.99244289]\n",
      "[ 6.30061232]\n"
     ]
    }
   ],
   "source": [
    "pca = PCA(n_components=1, svd_solver='arpack')\n",
    "pca.fit(X)\n",
    "\n",
    "\n",
    "print(pca.explained_variance_ratio_)  \n",
    "\n",
    "print(pca.singular_values_)  "
   ]
  },
  {
   "cell_type": "code",
   "execution_count": 1,
   "metadata": {},
   "outputs": [
    {
     "data": {
      "text/plain": [
       "array([[1, 2, 3],\n",
       "       [4, 5, 6]])"
      ]
     },
     "execution_count": 1,
     "metadata": {},
     "output_type": "execute_result"
    }
   ],
   "source": [
    "import numpy as np\n",
    "a=np.array([1,2,3,4,5,6])\n",
    "a.reshape((2,3))"
   ]
  },
  {
   "cell_type": "code",
   "execution_count": 3,
   "metadata": {},
   "outputs": [
    {
     "name": "stdout",
     "output_type": "stream",
     "text": [
      "[0 1 0]\n"
     ]
    }
   ],
   "source": [
    "from sklearn.preprocessing import LabelEncoder\n",
    "enc=LabelEncoder()\n",
    "y=['cat','dog','cat']\n",
    "y=enc.fit_transform(y)\n",
    "print(y)"
   ]
  },
  {
   "cell_type": "code",
   "execution_count": 3,
   "metadata": {},
   "outputs": [],
   "source": [
    "import numpy as np\n",
    "import pandas as pd\n",
    "\n",
    "import matplotlib.pyplot as plt\n",
    "file = \"out_1.csv\"\n",
    "df = pd.read_csv(file)"
   ]
  },
  {
   "cell_type": "code",
   "execution_count": 21,
   "metadata": {},
   "outputs": [
    {
     "data": {
      "text/plain": [
       "(100000, 3)"
      ]
     },
     "execution_count": 21,
     "metadata": {},
     "output_type": "execute_result"
    }
   ],
   "source": [
    "'''\n",
    "dnew = df[[\"hid\",\"uid\",\"pid\",\"sys\",\"dev\",\"fid\",\"gfid\",\"comd\",\"ofst\",\"byts\",\"fd\",\n",
    "                     \"fpd\",\"cFlg\",\"ftyp\",\"fstp\",\"uid\",\"siz\",\"nlnk\",\"ctm\",\"mtm\",\"atm\",\"mode\"]]\n",
    "'''\n",
    "dnew = df[[\"sys\",\"uid\",\"pid\"]]\n",
    "dnew.shape"
   ]
  },
  {
   "cell_type": "code",
   "execution_count": 22,
   "metadata": {},
   "outputs": [
    {
     "name": "stderr",
     "output_type": "stream",
     "text": [
      "C:\\Users\\Si\\Anaconda3\\lib\\site-packages\\numpy\\core\\numeric.py:531: ComplexWarning: Casting complex values to real discards the imaginary part\n",
      "  return array(a, dtype, copy=False, order=order)\n"
     ]
    },
    {
     "data": {
      "image/png": "[encoded data removed]",
      "text/plain": [
       "<matplotlib.figure.Figure at 0x1f4dae81e10>"
      ]
     },
     "metadata": {},
     "output_type": "display_data"
    }
   ],
   "source": [
    "import matplotlib.pyplot as plt\n",
    "x= np.array(dnew)\n",
    "transformed=np.fft.fft2(x)\n",
    "plt.plot(transformed)\n",
    "plt.show()"
   ]
  },
  {
   "cell_type": "code",
   "execution_count": 24,
   "metadata": {},
   "outputs": [],
   "source": [
    "df = pd.DataFrame(transformed)\n",
    "df.to_csv('out_1_tr.csv', index=False)"
   ]
  },
  {
   "cell_type": "code",
   "execution_count": 25,
   "metadata": {},
   "outputs": [
    {
     "data": {
      "text/plain": [
       "(100000, 3)"
      ]
     },
     "execution_count": 25,
     "metadata": {},
     "output_type": "execute_result"
    }
   ],
   "source": [
    "df.shape"
   ]
  },
  {
   "cell_type": "code",
   "execution_count": 26,
   "metadata": {},
   "outputs": [
    {
     "ename": "ValueError",
     "evalue": "could not convert string to float: b'(2507581320+0j)'",
     "output_type": "error",
     "traceback": [
      "\u001b[1;31m---------------------------------------------------------------------------\u001b[0m",
      "\u001b[1;31mValueError\u001b[0m                                Traceback (most recent call last)",
      "\u001b[1;32m<ipython-input-26-e2fe3547d146>\u001b[0m in \u001b[0;36m<module>\u001b[1;34m()\u001b[0m\n\u001b[0;32m     65\u001b[0m   \u001b[1;31m#get_signal_and_write_to_file(binsize=10000)\u001b[0m\u001b[1;33m\u001b[0m\u001b[1;33m\u001b[0m\u001b[0m\n\u001b[0;32m     66\u001b[0m \u001b[1;33m\u001b[0m\u001b[0m\n\u001b[1;32m---> 67\u001b[1;33m     \u001b[0mget_ica\u001b[0m\u001b[1;33m(\u001b[0m\u001b[0mfn\u001b[0m\u001b[1;33m=\u001b[0m\u001b[1;34m'out_1_tr.csv'\u001b[0m\u001b[1;33m)\u001b[0m\u001b[1;33m\u001b[0m\u001b[0m\n\u001b[0m",
      "\u001b[1;32m<ipython-input-26-e2fe3547d146>\u001b[0m in \u001b[0;36mget_ica\u001b[1;34m(fn)\u001b[0m\n\u001b[0;32m     21\u001b[0m \u001b[1;32mdef\u001b[0m \u001b[0mget_ica\u001b[0m\u001b[1;33m(\u001b[0m\u001b[0mfn\u001b[0m \u001b[1;33m=\u001b[0m \u001b[1;34m'top10_pids_signal_fiu.csv'\u001b[0m\u001b[1;33m)\u001b[0m\u001b[1;33m:\u001b[0m\u001b[1;33m\u001b[0m\u001b[0m\n\u001b[0;32m     22\u001b[0m \u001b[1;33m\u001b[0m\u001b[0m\n\u001b[1;32m---> 23\u001b[1;33m     \u001b[0msignal\u001b[0m\u001b[1;33m=\u001b[0m\u001b[0mnp\u001b[0m\u001b[1;33m.\u001b[0m\u001b[0mloadtxt\u001b[0m\u001b[1;33m(\u001b[0m\u001b[0mfn\u001b[0m\u001b[1;33m,\u001b[0m\u001b[0mdelimiter\u001b[0m\u001b[1;33m=\u001b[0m\u001b[1;34m','\u001b[0m\u001b[1;33m)\u001b[0m\u001b[1;33m\u001b[0m\u001b[0m\n\u001b[0m\u001b[0;32m     24\u001b[0m     \u001b[0mprint\u001b[0m \u001b[1;33m(\u001b[0m\u001b[0msignal\u001b[0m\u001b[1;33m.\u001b[0m\u001b[0mshape\u001b[0m\u001b[1;33m)\u001b[0m\u001b[1;33m\u001b[0m\u001b[0m\n\u001b[0;32m     25\u001b[0m     \u001b[0msignal\u001b[0m \u001b[1;33m=\u001b[0m \u001b[0msignal\u001b[0m\u001b[1;33m[\u001b[0m\u001b[1;33m~\u001b[0m\u001b[1;33m(\u001b[0m\u001b[0msignal\u001b[0m\u001b[1;33m==\u001b[0m\u001b[1;36m0\u001b[0m\u001b[1;33m)\u001b[0m\u001b[1;33m.\u001b[0m\u001b[0mall\u001b[0m\u001b[1;33m(\u001b[0m\u001b[1;36m1\u001b[0m\u001b[1;33m)\u001b[0m\u001b[1;33m]\u001b[0m\u001b[1;33m\u001b[0m\u001b[0m\n",
      "\u001b[1;32mC:\\Users\\Si\\Anaconda3\\lib\\site-packages\\numpy\\lib\\npyio.py\u001b[0m in \u001b[0;36mloadtxt\u001b[1;34m(fname, dtype, comments, delimiter, converters, skiprows, usecols, unpack, ndmin)\u001b[0m\n\u001b[0;32m   1022\u001b[0m \u001b[1;33m\u001b[0m\u001b[0m\n\u001b[0;32m   1023\u001b[0m             \u001b[1;31m# Convert each value according to its column and store\u001b[0m\u001b[1;33m\u001b[0m\u001b[1;33m\u001b[0m\u001b[0m\n\u001b[1;32m-> 1024\u001b[1;33m             \u001b[0mitems\u001b[0m \u001b[1;33m=\u001b[0m \u001b[1;33m[\u001b[0m\u001b[0mconv\u001b[0m\u001b[1;33m(\u001b[0m\u001b[0mval\u001b[0m\u001b[1;33m)\u001b[0m \u001b[1;32mfor\u001b[0m \u001b[1;33m(\u001b[0m\u001b[0mconv\u001b[0m\u001b[1;33m,\u001b[0m \u001b[0mval\u001b[0m\u001b[1;33m)\u001b[0m \u001b[1;32min\u001b[0m \u001b[0mzip\u001b[0m\u001b[1;33m(\u001b[0m\u001b[0mconverters\u001b[0m\u001b[1;33m,\u001b[0m \u001b[0mvals\u001b[0m\u001b[1;33m)\u001b[0m\u001b[1;33m]\u001b[0m\u001b[1;33m\u001b[0m\u001b[0m\n\u001b[0m\u001b[0;32m   1025\u001b[0m             \u001b[1;31m# Then pack it according to the dtype's nesting\u001b[0m\u001b[1;33m\u001b[0m\u001b[1;33m\u001b[0m\u001b[0m\n\u001b[0;32m   1026\u001b[0m             \u001b[0mitems\u001b[0m \u001b[1;33m=\u001b[0m \u001b[0mpack_items\u001b[0m\u001b[1;33m(\u001b[0m\u001b[0mitems\u001b[0m\u001b[1;33m,\u001b[0m \u001b[0mpacking\u001b[0m\u001b[1;33m)\u001b[0m\u001b[1;33m\u001b[0m\u001b[0m\n",
      "\u001b[1;32mC:\\Users\\Si\\Anaconda3\\lib\\site-packages\\numpy\\lib\\npyio.py\u001b[0m in \u001b[0;36m<listcomp>\u001b[1;34m(.0)\u001b[0m\n\u001b[0;32m   1022\u001b[0m \u001b[1;33m\u001b[0m\u001b[0m\n\u001b[0;32m   1023\u001b[0m             \u001b[1;31m# Convert each value according to its column and store\u001b[0m\u001b[1;33m\u001b[0m\u001b[1;33m\u001b[0m\u001b[0m\n\u001b[1;32m-> 1024\u001b[1;33m             \u001b[0mitems\u001b[0m \u001b[1;33m=\u001b[0m \u001b[1;33m[\u001b[0m\u001b[0mconv\u001b[0m\u001b[1;33m(\u001b[0m\u001b[0mval\u001b[0m\u001b[1;33m)\u001b[0m \u001b[1;32mfor\u001b[0m \u001b[1;33m(\u001b[0m\u001b[0mconv\u001b[0m\u001b[1;33m,\u001b[0m \u001b[0mval\u001b[0m\u001b[1;33m)\u001b[0m \u001b[1;32min\u001b[0m \u001b[0mzip\u001b[0m\u001b[1;33m(\u001b[0m\u001b[0mconverters\u001b[0m\u001b[1;33m,\u001b[0m \u001b[0mvals\u001b[0m\u001b[1;33m)\u001b[0m\u001b[1;33m]\u001b[0m\u001b[1;33m\u001b[0m\u001b[0m\n\u001b[0m\u001b[0;32m   1025\u001b[0m             \u001b[1;31m# Then pack it according to the dtype's nesting\u001b[0m\u001b[1;33m\u001b[0m\u001b[1;33m\u001b[0m\u001b[0m\n\u001b[0;32m   1026\u001b[0m             \u001b[0mitems\u001b[0m \u001b[1;33m=\u001b[0m \u001b[0mpack_items\u001b[0m\u001b[1;33m(\u001b[0m\u001b[0mitems\u001b[0m\u001b[1;33m,\u001b[0m \u001b[0mpacking\u001b[0m\u001b[1;33m)\u001b[0m\u001b[1;33m\u001b[0m\u001b[0m\n",
      "\u001b[1;32mC:\\Users\\Si\\Anaconda3\\lib\\site-packages\\numpy\\lib\\npyio.py\u001b[0m in \u001b[0;36mfloatconv\u001b[1;34m(x)\u001b[0m\n\u001b[0;32m    723\u001b[0m         \u001b[1;32mif\u001b[0m \u001b[1;34mb'0x'\u001b[0m \u001b[1;32min\u001b[0m \u001b[0mx\u001b[0m\u001b[1;33m:\u001b[0m\u001b[1;33m\u001b[0m\u001b[0m\n\u001b[0;32m    724\u001b[0m             \u001b[1;32mreturn\u001b[0m \u001b[0mfloat\u001b[0m\u001b[1;33m.\u001b[0m\u001b[0mfromhex\u001b[0m\u001b[1;33m(\u001b[0m\u001b[0masstr\u001b[0m\u001b[1;33m(\u001b[0m\u001b[0mx\u001b[0m\u001b[1;33m)\u001b[0m\u001b[1;33m)\u001b[0m\u001b[1;33m\u001b[0m\u001b[0m\n\u001b[1;32m--> 725\u001b[1;33m         \u001b[1;32mreturn\u001b[0m \u001b[0mfloat\u001b[0m\u001b[1;33m(\u001b[0m\u001b[0mx\u001b[0m\u001b[1;33m)\u001b[0m\u001b[1;33m\u001b[0m\u001b[0m\n\u001b[0m\u001b[0;32m    726\u001b[0m \u001b[1;33m\u001b[0m\u001b[0m\n\u001b[0;32m    727\u001b[0m     \u001b[0mtyp\u001b[0m \u001b[1;33m=\u001b[0m \u001b[0mdtype\u001b[0m\u001b[1;33m.\u001b[0m\u001b[0mtype\u001b[0m\u001b[1;33m\u001b[0m\u001b[0m\n",
      "\u001b[1;31mValueError\u001b[0m: could not convert string to float: b'(2507581320+0j)'"
     ]
    }
   ],
   "source": [
    "from sklearn.metrics import mean_squared_error\n",
    "import copy\n",
    "def get_error(ground_truth,signalmat):\n",
    "    # we want to try every possible signal order\n",
    "    g=ground_truth.T\n",
    "    s=signalmat.T\n",
    "    l = len(s) # number of signals\n",
    "    \n",
    "    best_err =mean_squared_error(g,s)\n",
    "    for j in range(l):        \n",
    "        temp = copy.deepcopy(s[j])\n",
    "        for i in range(j,l-1):\n",
    "            s[i]=copy.deepcopy(s[i+1])\n",
    "            s[i+1]=copy.deepcopy(temp)\n",
    "\n",
    "            err = mean_squared_error(g,s)\n",
    "            if err > best_err:\n",
    "                best_err = err\n",
    "    return best_err\n",
    "\n",
    "def get_ica(fn = 'top10_pids_signal_fiu.csv'):\n",
    "    \n",
    "    signal=np.loadtxt(fn,delimiter=',')\n",
    "    print (signal.shape)\n",
    "    signal = signal[~(signal==0).all(1)]\n",
    "    print (signal.shape)\n",
    "    signal /= signal.std(axis=0) #normalize\n",
    "    print (time.localtime(),'normalized')\n",
    "    print (signal.shape)\n",
    "    nc = len(signal[0])\n",
    "  \n",
    "  # Compute ICA\n",
    "    ica = FastICA(n_components=nc)\n",
    "    S_ = ica.fit_transform(signal)  # Reconstruct signals\n",
    "\n",
    "    print (time.localtime(),'ICA calculated')\n",
    "    ica_err= 1 #get_error(signal,S_)#,np.mean(signal-abs(S_))\n",
    "\n",
    "    pca = PCA(n_components=nc)\n",
    "    H = pca.fit_transform(signal)  # Reconstruct signals based on orthogonal components\n",
    "    print (time.localtime(),'PCA calculated')\n",
    "    pca_err=1 #get_error(signal,H)\n",
    "\n",
    "       \n",
    "    fig=plt.figure()\n",
    "\n",
    "    models = [signal_,signal, S_,H]\n",
    "    names = ['Observations (mixed signal)',\n",
    "           'True Sources',\n",
    "           'ICA: mse = '+str(ica_err),\n",
    "           'PCA: mse = '+str(pca_err)]\n",
    "    colors=cm.rainbow(np.linspace(0,1,nc))\n",
    "\n",
    "    for ii, (model, name) in enumerate(zip(models, names), 1):\n",
    "        plt.subplot(4, 1, ii)\n",
    "        plt.title(name)\n",
    "        for sig, color in zip(model.T, colors):\n",
    "            plt.plot(sig, color=color)\n",
    "\n",
    "    plt.subplots_adjust(0.09, 0.04, 0.94, 0.94, 0.26, 0.46)\n",
    "    fig.tight_layout() # show no overlap graph\n",
    "    plt.show()\n",
    "    \n",
    "if __name__=='__main__':\n",
    "  #get_signal_and_write_to_file(binsize=10000)\n",
    "\n",
    "    get_ica(fn='out_1_tr.csv')"
   ]
  },
  {
   "cell_type": "code",
   "execution_count": null,
   "metadata": {
    "collapsed": true
   },
   "outputs": [],
   "source": []
  }
 ],
 "metadata": {
  "kernelspec": {
   "display_name": "Python 3",
   "language": "python",
   "name": "python3"
  },
  "language_info": {
   "codemirror_mode": {
    "name": "ipython",
    "version": 3
   },
   "file_extension": ".py",
   "mimetype": "text/x-python",
   "name": "python",
   "nbconvert_exporter": "python",
   "pygments_lexer": "ipython3",
   "version": "3.6.1"
  }
 },
 "nbformat": 4,
 "nbformat_minor": 2
}
