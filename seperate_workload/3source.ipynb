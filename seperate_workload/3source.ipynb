{
 "cells": [
  {
   "cell_type": "code",
   "execution_count": 8,
   "metadata": {
    "collapsed": true,
    "scrolled": true
   },
   "outputs": [],
   "source": [
    "import numpy as np\n",
    "from sklearn.decomposition import FastICA, PCA\n",
    "from shogun import SOBI,RealFeatures\n",
    "\n",
    "import pylab as pl\n",
    "from amuse import amuse\n",
    "from scipy.io import wavfile\n",
    "from sklearn import preprocessing    \n",
    "import matplotlib.pyplot as plt\n",
    "from jade import jadeR\n",
    "import pywt\n",
    "#read sources\n",
    "fs1, s1 = wavfile.read('si30.wav')\n",
    "fs2, s2 = wavfile.read('Small-talk30.wav')\n",
    "fs3, s3 = wavfile.read('taboo+topic.wav')\n",
    "#5 sec of sources\n",
    "\n",
    "s1 = s1[0:220500]\n",
    "s2 = s2[0:220500]\n",
    "s3 = s3[0:220500]\n",
    "s1=s1[:,0]\n",
    "s2=s2[:,0]\n",
    "s3=s3[:,0]\n",
    "S0 = np.c_[s1, s2, s3]\n",
    "\n",
    "#S0 = S0[~(S0==0).all(1)]\n",
    "d=S0.std(axis=0)\n",
    "S =S0/ d  \n",
    "\n",
    "#s= preprocessing.normalize(s, norm='l2')\n",
    "A = np.array([[3.2,4.5,6.7],[1.7,2.4,3],[2,3.6,1.8]])  #Matrix mixture. Merges the sources\n",
    "\n",
    "x = np.dot(S, A.T) #observed signal\n",
    "\n",
    "Wavelet=pywt.Wavelet('db3')\n",
    "level_max=0\n",
    "coeffs1 = pywt.wavedec(x[:,0], Wavelet, level=level_max)\n",
    "coeffs2 = pywt.wavedec(x[:,1], Wavelet, level=level_max)\n",
    "coeffs3 = pywt.wavedec(x[:,2], Wavelet, level=level_max)\n",
    "x_=np.c_[coeffs1[0], coeffs2[0],coeffs3[0]]\n",
    "\n",
    "amuse1 = amuse(x_.T, 3, 1)\n",
    "s_hat = (amuse1.sources).T #estimate sources. 1/8 size of the original signal\n",
    "W = amuse1.W #separation matrix\n",
    "\n",
    "ica = FastICA(n_components=3)\n",
    "S_ica = ica.fit_transform(x)  # 重构信号\n",
    "# PCA模型\n",
    "pca = PCA(n_components=3)\n",
    "S_pca = pca.fit_transform(x)  # 基于PCA的成分正交重构信号源\n",
    "\n",
    "#jade\n",
    "jade=np.asarray(jadeR(x.T,verbose=False))\n",
    "J=np.dot(jade,x.T)\n",
    "\n",
    "#sobi\n",
    "sep = SOBI()\n",
    "mixed_signals = RealFeatures((S.T).astype(np.float64))             \n",
    "signals = sep.apply(mixed_signals)\n",
    "\n",
    "So = signals.get_feature_matrix()"
   ]
  },
  {
   "cell_type": "code",
   "execution_count": null,
   "metadata": {
    "collapsed": true
   },
   "outputs": [],
   "source": [
    "import matplotlib.pyplot as plt\n",
    "plt.plot(S)\n",
    "\n",
    "plt.show()\n",
    "plt.plot(x)\n",
    "plt.show()"
   ]
  },
  {
   "cell_type": "code",
   "execution_count": 10,
   "metadata": {
    "collapsed": true
   },
   "outputs": [],
   "source": [
    "from sklearn.metrics import mean_squared_error\n",
    "import copy\n",
    "def get_error(ground_truth,signalmat):\n",
    "    # we want to try every possible signal order\n",
    "    g=ground_truth.T\n",
    "    s=signalmat.T\n",
    "    l = len(s) # number of signals\n",
    "    \n",
    "    best_err =mean_squared_error(g,s)\n",
    "    for j in range(l):        \n",
    "        temp = copy.deepcopy(s[j])\n",
    "        for i in range(j,l-1):\n",
    "            s[i]=copy.deepcopy(s[i+1])\n",
    "            s[i+1]=copy.deepcopy(temp)\n",
    "\n",
    "            err = mean_squared_error(g,s)\n",
    "            if err > best_err:\n",
    "                best_err = err\n",
    "    return best_err"
   ]
  },
  {
   "cell_type": "code",
   "execution_count": 11,
   "metadata": {},
   "outputs": [
    {
     "name": "stdout",
     "output_type": "stream",
     "text": [
      "1.0014272619301527\n",
      "37.04988159875823\n",
      "3114.673171969118\n",
      "2.0497478865054815\n",
      "2.0066945650885866\n"
     ]
    }
   ],
   "source": [
    "import math\n",
    "\n",
    "print(get_error(S,S_ica))\n",
    "print(get_error(S,S_pca))\n",
    "print(get_error(S,s_hat)) #amuse\n",
    "print(get_error(S,J.T))   #jade\n",
    "print(get_error(S,So.T))  #sobi"
   ]
  },
  {
   "cell_type": "code",
   "execution_count": null,
   "metadata": {
    "collapsed": true
   },
   "outputs": [],
   "source": [
    "0.999878461056\n",
    "132.826856575\n",
    "13.3647274612\n",
    "2.66372264982\n",
    "\n",
    "1.0014125579\n",
    "73.067925018\n",
    "11.1346606895\n",
    "2.68414535111\n",
    "\n",
    "0.999968211396\n",
    "35.1467833345\n",
    "3797.13541275\n",
    "2.04895349219"
   ]
  }
 ],
 "metadata": {
  "kernelspec": {
   "display_name": "Python 3",
   "language": "python",
   "name": "python3"
  },
  "language_info": {
   "codemirror_mode": {
    "name": "ipython",
    "version": 3
   },
   "file_extension": ".py",
   "mimetype": "text/x-python",
   "name": "python",
   "nbconvert_exporter": "python",
   "pygments_lexer": "ipython3",
   "version": "3.6.1"
  }
 },
 "nbformat": 4,
 "nbformat_minor": 2
}
